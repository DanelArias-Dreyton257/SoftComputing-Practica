{
 "cells": [
  {
   "cell_type": "markdown",
   "metadata": {},
   "source": [
    "# Ejercicio Práctico : Soft Computing\n",
    "\n",
    "Autores: Danel Arias y Rubén Pérez\n",
    "Fecha: 30 de enero 2024\n",
    "\n",
    "--------------------------\n"
   ]
  },
  {
   "cell_type": "code",
   "execution_count": 1,
   "metadata": {},
   "outputs": [],
   "source": [
    "# imports\n",
    "import numpy as np"
   ]
  },
  {
   "cell_type": "markdown",
   "metadata": {},
   "source": [
    "## Enunciado\n",
    "Supongamos que cuatro expertos, $𝐸=\\{𝑒_1, 𝑒_2, 𝑒_3, 𝑒_4\\}$, deben elegir la mejor alternativa de entre un conjunto de cuatro posibles, $𝑋=\\{𝑥_1, 𝑥_2, 𝑥_3, 𝑥_4\\}$. Para ello, expresan sus opiniones mediante las siguientes relaciones de \n",
    "preferencia difusas:\n",
    "\n",
    "$p^1 = \\begin{pmatrix}- & 0.5 & 0.7 & 0.8 \\\\\n",
    "0.5 &- & 0.6 & 0.1\\\\\n",
    "0.2 & 0.3 &- & 0.5\\\\\n",
    "0.2 & 0.8 & 0.5 &-\\\\\n",
    "\\end{pmatrix}$\n",
    "\n",
    "$p^2 = \\begin{pmatrix}- & 0.9 & 0.2 & 0.2 \\\\\n",
    "0.1 &- & 0.3 & 0.9\\\\\n",
    "0.7 & 0.7 &- & 0.6\\\\\n",
    "0.7 & 0.1 & 0.4 &-\\\\\n",
    "\\end{pmatrix}$\n",
    "\n",
    "$p^3 = \\begin{pmatrix}- & 0.7 & 0.8 & 0.6 \\\\\n",
    "0.3 &- & 0.7 & 0.2\\\\\n",
    "0.1 & 0.3 &- & 0.3\\\\\n",
    "0.3 & 0.7 & 0.6 &-\\\\\n",
    "\\end{pmatrix}$\n",
    "\n",
    "$p^4 = \\begin{pmatrix}- & 0.2 & 0.8 & 0.8 \\\\\n",
    "0.7 &- & 0.6 & 0.3\\\\\n",
    "0.1 & 0.3 &- & 0.5\\\\\n",
    "0.1 & 0.7 & 0.5 &-\\\\\n",
    "\\end{pmatrix}$"
   ]
  },
  {
   "cell_type": "code",
   "execution_count": 2,
   "metadata": {},
   "outputs": [],
   "source": [
    "# Representación de las matrices en numpy\n",
    "p1 = np.array([[np.nan, 0.5, 0.7, 0.8],\n",
    "               [0.5, np.nan, 0.6, 0.1],\n",
    "               [0.2, 0.3, np.nan, 0.5],\n",
    "               [0.2, 0.8, 0.5, np.nan]])\n",
    "p2 = np.array([[np.nan, 0.9, 0.2, 0.2],\n",
    "               [0.1, np.nan, 0.3, 0.9],\n",
    "               [0.7, 0.7, np.nan, 0.6],\n",
    "               [0.7, 0.1, 0.4, np.nan]])\n",
    "p3 = np.array([[np.nan, 0.7, 0.8, 0.6],\n",
    "               [0.3, np.nan, 0.7, 0.2],\n",
    "               [0.1, 0.3, np.nan, 0.3],\n",
    "               [0.3, 0.7, 0.6, np.nan]])\n",
    "p4 = np.array([[np.nan, 0.2, 0.8, 0.8],\n",
    "               [0.7, np.nan, 0.6, 0.3],\n",
    "               [0.1, 0.3, np.nan, 0.5],\n",
    "               [0.1, 0.7, 0.5, np.nan]])\n",
    "pref = np.array([p1, p2, p3, p4])\n",
    "n_x = p1.shape[1]"
   ]
  },
  {
   "cell_type": "markdown",
   "metadata": {},
   "source": [
    "## Preguntas a responder"
   ]
  },
  {
   "cell_type": "markdown",
   "metadata": {},
   "source": [
    "> Nota:  Use  la  relación  de  preferencia  colectiva  obtenida  en  el  punto  2  para   calcular  los  grados  de  dominancia  y  de  no  dominancia  solicitados  en  los puntos 3 y 4."
   ]
  },
  {
   "cell_type": "markdown",
   "metadata": {},
   "source": [
    "1. ¿Cuál es el nivel de consenso alcanzado entre los cuatro expertos?"
   ]
  },
  {
   "cell_type": "code",
   "execution_count": 3,
   "metadata": {},
   "outputs": [
    {
     "name": "stdout",
     "output_type": "stream",
     "text": [
      "S_1_2:\n",
      "[[nan 0.6 0.5 0.4]\n",
      " [0.6 nan 0.7 0.2]\n",
      " [0.5 0.6 nan 0.9]\n",
      " [0.5 0.3 0.9 nan]]\n",
      "S_1_3:\n",
      "[[nan 0.8 0.9 0.8]\n",
      " [0.8 nan 0.9 0.9]\n",
      " [0.9 1.  nan 0.8]\n",
      " [0.9 0.9 0.9 nan]]\n",
      "S_1_4:\n",
      "[[nan 0.7 0.9 1. ]\n",
      " [0.8 nan 1.  0.8]\n",
      " [0.9 1.  nan 1. ]\n",
      " [0.9 0.9 1.  nan]]\n",
      "S_2_3:\n",
      "[[nan 0.8 0.4 0.6]\n",
      " [0.8 nan 0.6 0.3]\n",
      " [0.4 0.6 nan 0.7]\n",
      " [0.6 0.4 0.8 nan]]\n",
      "S_2_4:\n",
      "[[nan 0.3 0.4 0.4]\n",
      " [0.4 nan 0.7 0.4]\n",
      " [0.4 0.6 nan 0.9]\n",
      " [0.4 0.4 0.9 nan]]\n",
      "S_3_4:\n",
      "[[nan 0.5 1.  0.8]\n",
      " [0.6 nan 0.9 0.9]\n",
      " [1.  1.  nan 0.8]\n",
      " [0.8 1.  0.9 nan]]\n"
     ]
    }
   ],
   "source": [
    "# Cálculo de las matrices de similitud\n",
    "sms =[]\n",
    "for i in range(len(pref)):\n",
    "    for j in range(i+1, len(pref)):\n",
    "        sm = 1 - np.abs(pref[i] - pref[j])\n",
    "        print(f'S_{i+1}_{j+1}:\\n{sm}')\n",
    "        sms.append(sm)"
   ]
  },
  {
   "cell_type": "markdown",
   "metadata": {},
   "source": [
    "Una vez tenemos estas matrices, podemos calcular la matriz de consenso, que se obtiene como la media de las matrices de similitud. "
   ]
  },
  {
   "cell_type": "code",
   "execution_count": 4,
   "metadata": {},
   "outputs": [
    {
     "name": "stdout",
     "output_type": "stream",
     "text": [
      "Matriz de consenso:\n",
      "[[       nan 0.61666667 0.68333333 0.66666667]\n",
      " [0.66666667        nan 0.8        0.58333333]\n",
      " [0.68333333 0.8               nan 0.85      ]\n",
      " [0.68333333 0.65       0.9               nan]]\n"
     ]
    }
   ],
   "source": [
    "consensus = np.mean(sms, axis=0)\n",
    "\n",
    "print(f'Matriz de consenso:\\n{consensus}')"
   ]
  },
  {
   "cell_type": "markdown",
   "metadata": {},
   "source": [
    "Calculamos el nivel de consenso global como la media de los valores de la matriz de consenso."
   ]
  },
  {
   "cell_type": "code",
   "execution_count": 5,
   "metadata": {},
   "outputs": [
    {
     "name": "stdout",
     "output_type": "stream",
     "text": [
      "Consenso global:\n",
      "0.7152777777777778\n"
     ]
    }
   ],
   "source": [
    "global_consensus = np.mean(consensus[~np.isnan(consensus)])\n",
    "print(f'Consenso global:\\n{global_consensus}')"
   ]
  },
  {
   "cell_type": "markdown",
   "metadata": {},
   "source": [
    "2. Usando el operador OWA con el cuantificador lingüístico difuso «mayoría», definido por $𝑄(𝑟) = 𝑟^{1/2}$, para obtener sus pesos, ¿cuál es la\n",
    "relación de preferencia colectiva?"
   ]
  },
  {
   "cell_type": "markdown",
   "metadata": {},
   "source": [
    "Vamos a definir dos funciones, una para calcular el operador OWA (en este caso, $Q(r) = r^{1/2}$), y otra que, dado el número de pesos, calcule los valores automáticamente"
   ]
  },
  {
   "cell_type": "code",
   "execution_count": 6,
   "metadata": {},
   "outputs": [],
   "source": [
    "def q(r):\n",
    "    return np.sqrt(r)\n",
    "\n",
    "def calc_w(n):\n",
    "    w = np.ndarray(n)\n",
    "    for i in range(1, n+1):\n",
    "        w[i-1] = q(i / n) - q((i-1) / n)\n",
    "    return w\n",
    "\n",
    "n_exp = len(pref) # número de expertos\n",
    "w4 = calc_w(n_exp)"
   ]
  },
  {
   "cell_type": "markdown",
   "metadata": {},
   "source": [
    "Definimos también el operador de agregación: $\\psi_{W}(p_1, ... p_n) = \\sum_{i=1}^{n} w_i * p_{\\sigma(i)}$"
   ]
  },
  {
   "cell_type": "code",
   "execution_count": 7,
   "metadata": {},
   "outputs": [],
   "source": [
    "def psi_w(array_p, w):\n",
    "    # Ordenar de mayor a menor\n",
    "    array_p = np.sort(array_p)[::-1]\n",
    "    # Aplicar los pesos\n",
    "    return np.sum(array_p * w)\n"
   ]
  },
  {
   "cell_type": "code",
   "execution_count": 8,
   "metadata": {},
   "outputs": [
    {
     "name": "stdout",
     "output_type": "stream",
     "text": [
      "Matriz de preferencia colectiva:\n",
      "[[       nan 0.70122898 0.70372338 0.68783152]\n",
      " [0.51462644        nan 0.60980762 0.55731322]\n",
      " [0.42071068 0.5               nan 0.52320508]\n",
      " [0.45731322 0.66961524 0.53660254        nan]]\n"
     ]
    }
   ],
   "source": [
    "# Matriz de preferencia colectiva\n",
    "pref_col = np.ndarray((n_x, n_x))\n",
    "\n",
    "for i in range(n_x):\n",
    "    for j in range(n_x):\n",
    "        # Guardamos en pref_ij los elementos ij de cada matriz\n",
    "        pref_ij = np.array([p[i, j] for p in pref])\n",
    "        # Guardamos el valor de la función psi_w en la matriz de preferencia agregada\n",
    "        pref_col[i, j] = psi_w(pref_ij, w4)\n",
    "\n",
    "print(f'Matriz de preferencia colectiva:\\n{pref_col}')"
   ]
  },
  {
   "cell_type": "markdown",
   "metadata": {},
   "source": [
    "3. ¿Cuál es el grado de dominancia guiado por cuantificador asociado a cada alternativa? Indica el ranking de alternativas obtenido. Utilice de nuevo el\n",
    "operador OWA con el cuantificador lingüístico difuso «mayoría», definido por $𝑄(𝑟) = 𝑟^{1/2}$, para obtener sus pesos."
   ]
  },
  {
   "cell_type": "code",
   "execution_count": 9,
   "metadata": {},
   "outputs": [
    {
     "name": "stdout",
     "output_type": "stream",
     "text": [
      "Grado de dominancia:\n",
      "\tX1 = 0.7002106417598539\n",
      "\tX2 = 0.5797877056362575\n",
      "\tX3 = 0.49884759796040723\n",
      "\tX4 = 0.5988475979604071\n"
     ]
    }
   ],
   "source": [
    "# Los pesos son los mismos que en el caso anterior\n",
    "# Calculamos el grado de dominancia\n",
    "dom = np.ndarray((n_x))\n",
    "w3 = calc_w(n_exp - 1)\n",
    "for i in range(n_x):\n",
    "    fila = pref_col[i, :]\n",
    "    # Quitar columna i\n",
    "    fila = np.delete(fila, i)\n",
    "    dom[i] = psi_w(fila, w3)\n",
    "\n",
    "print(f'Grado de dominancia:')\n",
    "for i in range(n_x):\n",
    "    print(f'\\tX{i+1} = {dom[i]}')\n"
   ]
  },
  {
   "cell_type": "markdown",
   "metadata": {},
   "source": [
    "Como podemos observar, la alternativa $𝑥_1$ es la más dominante, seguida de $𝑥_4$ y $𝑥_2$, mientras que $𝑥_3$ es la menos dominante."
   ]
  },
  {
   "cell_type": "markdown",
   "metadata": {},
   "source": [
    "4. ¿Cuál es el grado de **no** dominancia guiado por cuantificador asociado a cada alternativa? Indica el ranking de alternativas obtenido. Use de nuevo\n",
    "el operador OWA con el cuantificador lingüístico difuso «mayoría», definido por $𝑄(𝑟) = 𝑟^{1/2}$, para obtener sus pesos"
   ]
  },
  {
   "cell_type": "code",
   "execution_count": 10,
   "metadata": {},
   "outputs": [
    {
     "name": "stdout",
     "output_type": "stream",
     "text": [
      "Grado de NO dominancia:\n",
      "\tX1 = 1.0\n",
      "\tX2 = 0.9389011810468111\n",
      "\tX3 = 0.9140710870476838\n",
      "\tX4 = 0.9576991039281679\n"
     ]
    }
   ],
   "source": [
    "# Los pesos son los mismos que en el caso anterior\n",
    "# Calculamos el grado de NO dominancia\n",
    "no_dom = np.zeros((n_x))\n",
    "# Calculamos haciendo el max(0, diferencia entre el elemento de la columna y su simétrico respecto a la diagonal)\n",
    "for col in range(n_x):\n",
    "    res = np.ndarray((n_x-1))\n",
    "    for i in range(n_x):\n",
    "        if i != col:\n",
    "            # Tomamos el elemento y su simétrico\n",
    "            el = pref_col[i, col]\n",
    "            sim = pref_col[col, i]\n",
    "            # Guardamos los valores temporalmente en res\n",
    "            res[i if i < col else i-1] = 1 - max(0, el - sim)\n",
    "\n",
    "    # Operador de agregación\n",
    "    no_dom[col] = psi_w(res, w3)\n",
    "\n",
    "print(f'Grado de NO dominancia:')\n",
    "for i in range(n_x):\n",
    "    print(f'\\tX{i+1} = {no_dom[i]}')\n"
   ]
  },
  {
   "cell_type": "markdown",
   "metadata": {},
   "source": [
    "Tras realizar los cálculos, obtenemos que la alternativa $𝑥_1$ es la más \"no dominante\", seguida de $𝑥_4$ y $𝑥_2$, mientras que $𝑥_3$ es la menos \"no dominante\"."
   ]
  }
 ],
 "metadata": {
  "kernelspec": {
   "display_name": "softcompt",
   "language": "python",
   "name": "python3"
  },
  "language_info": {
   "codemirror_mode": {
    "name": "ipython",
    "version": 3
   },
   "file_extension": ".py",
   "mimetype": "text/x-python",
   "name": "python",
   "nbconvert_exporter": "python",
   "pygments_lexer": "ipython3",
   "version": "3.11.5"
  }
 },
 "nbformat": 4,
 "nbformat_minor": 2
}
