{
 "cells": [
  {
   "cell_type": "markdown",
   "metadata": {},
   "source": [
    "# Ejercicio Práctico : Soft Computing\n",
    "\n",
    "Autores: Danel Arias y Rubén Pérez\n",
    "Fecha: 30 de enero 2024\n",
    "\n",
    "--------------------------\n"
   ]
  },
  {
   "cell_type": "markdown",
   "metadata": {},
   "source": [
    "Supongamos que cuatro expertos, $𝐸=\\{𝑒_1, 𝑒_2, 𝑒_3, 𝑒_4\\}$, deben elegir la mejor alternativa de entre un conjunto de cuatro posibles, $𝑋=\\{𝑥_1, 𝑥_2, 𝑥_3, 𝑥_4\\}$. Para ello, expresan sus opiniones mediante las siguientes relaciones de \n",
    "preferencia difusas:\n",
    "\n",
    "$p^1 = \\begin{pmatrix}- & 0.5 & 0.7 & 0.8 \\\\\n",
    "0.5 &- & 0.6 & 0.1\\\\\n",
    "0.2 & 0.3 &- & 0.5\\\\\n",
    "0.2 & 0.8 & 0.5 &-\\\\\n",
    "\\end{pmatrix}$\n",
    "\n",
    "$p^2 = \\begin{pmatrix}- & 0.9 & 0.2 & 0.2 \\\\\n",
    "0.1 &- & 0.3 & 0.9\\\\\n",
    "0.7 & 0.7 &- & 0.6\\\\\n",
    "0.7 & 0.1 & 0.4 &-\\\\\n",
    "\\end{pmatrix}$\n",
    "\n",
    "$p^3 = \\begin{pmatrix}- & 0.7 & 0.8 & 0.6 \\\\\n",
    "0.3 &- & 0.7 & 0.2\\\\\n",
    "0.1 & 0.3 &- & 0.3\\\\\n",
    "0.3 & 0.7 & 0.6 &-\\\\\n",
    "\\end{pmatrix}$\n",
    "\n",
    "$p^4 = \\begin{pmatrix}- & 0.2 & 0.8 & 0.8 \\\\\n",
    "0.7 &- & 0.6 & 0.3\\\\\n",
    "0.1 & 0.3 &- & 0.5\\\\\n",
    "0.1 & 0.7 & 0.5 &-\\\\\n",
    "\\end{pmatrix}$"
   ]
  },
  {
   "cell_type": "markdown",
   "metadata": {},
   "source": [
    "## Preguntas a responder"
   ]
  },
  {
   "cell_type": "markdown",
   "metadata": {},
   "source": [
    "> Nota:  Use  la  relación  de  preferencia  colectiva  obtenida  en  el  punto  2  para   calcular  los  grados  de  dominancia  y  de  no  dominancia  solicitados  en  los puntos 3 y 4."
   ]
  },
  {
   "cell_type": "markdown",
   "metadata": {},
   "source": [
    "1. ¿Cuál es el nivel de consenso alcanzado entre los cuatro expertos?"
   ]
  },
  {
   "cell_type": "markdown",
   "metadata": {},
   "source": [
    "2. Usando el operador OWA con el cuantificador lingüístico difuso «mayoría», definido por $𝑄(𝑟) = 𝑟^{1/2}$, para obtener sus pesos, ¿cuál es la\n",
    "relación de preferencia colectiva?"
   ]
  },
  {
   "cell_type": "markdown",
   "metadata": {},
   "source": [
    "3. ¿Cuál es el grado de dominancia guiado por cuantificador asociado a cada alternativa? Indica el ranking de alternativas obtenido. Utilice de nuevo el\n",
    "operador OWA con el cuantificador lingüístico difuso «mayoría», definido por $𝑄(𝑟) = 𝑟^{1/2}$, para obtener sus pesos."
   ]
  },
  {
   "cell_type": "markdown",
   "metadata": {},
   "source": [
    "4. ¿Cuál es el grado de **no** dominancia guiado por cuantificador asociado a cada alternativa? Indica el ranking de alternativas obtenido. Use de nuevo\n",
    "el operador OWA con el cuantificador lingüístico difuso «mayoría», definido por $𝑄(𝑟) = 𝑟^{1/2}$, para obtener sus pesos"
   ]
  }
 ],
 "metadata": {
  "language_info": {
   "name": "python"
  }
 },
 "nbformat": 4,
 "nbformat_minor": 2
}
