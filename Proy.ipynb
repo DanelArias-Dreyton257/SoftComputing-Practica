{
 "cells": [
  {
   "cell_type": "markdown",
   "metadata": {},
   "source": [
    "# Ejercicio Práctico : Soft Computing\n",
    "\n",
    "Autores: Danel Arias y Rubén Pérez\n",
    "Fecha: 30 de enero 2024\n",
    "\n",
    "--------------------------\n"
   ]
  },
  {
   "cell_type": "code",
   "execution_count": 44,
   "metadata": {},
   "outputs": [],
   "source": [
    "# imports\n",
    "import numpy as np"
   ]
  },
  {
   "cell_type": "markdown",
   "metadata": {},
   "source": [
    "## Enunciado\n",
    "Supongamos que cuatro expertos, $𝐸=\\{𝑒_1, 𝑒_2, 𝑒_3, 𝑒_4\\}$, deben elegir la mejor alternativa de entre un conjunto de cuatro posibles, $𝑋=\\{𝑥_1, 𝑥_2, 𝑥_3, 𝑥_4\\}$. Para ello, expresan sus opiniones mediante las siguientes relaciones de \n",
    "preferencia difusas:\n",
    "\n",
    "$p^1 = \\begin{pmatrix}- & 0.5 & 0.7 & 0.8 \\\\\n",
    "0.5 &- & 0.6 & 0.1\\\\\n",
    "0.2 & 0.3 &- & 0.5\\\\\n",
    "0.2 & 0.8 & 0.5 &-\\\\\n",
    "\\end{pmatrix}$\n",
    "\n",
    "$p^2 = \\begin{pmatrix}- & 0.9 & 0.2 & 0.2 \\\\\n",
    "0.1 &- & 0.3 & 0.9\\\\\n",
    "0.7 & 0.7 &- & 0.6\\\\\n",
    "0.7 & 0.1 & 0.4 &-\\\\\n",
    "\\end{pmatrix}$\n",
    "\n",
    "$p^3 = \\begin{pmatrix}- & 0.7 & 0.8 & 0.6 \\\\\n",
    "0.3 &- & 0.7 & 0.2\\\\\n",
    "0.1 & 0.3 &- & 0.3\\\\\n",
    "0.3 & 0.7 & 0.6 &-\\\\\n",
    "\\end{pmatrix}$\n",
    "\n",
    "$p^4 = \\begin{pmatrix}- & 0.2 & 0.8 & 0.8 \\\\\n",
    "0.7 &- & 0.6 & 0.3\\\\\n",
    "0.1 & 0.3 &- & 0.5\\\\\n",
    "0.1 & 0.7 & 0.5 &-\\\\\n",
    "\\end{pmatrix}$"
   ]
  },
  {
   "cell_type": "code",
   "execution_count": 45,
   "metadata": {},
   "outputs": [],
   "source": [
    "# Representación de las matrices en numpy\n",
    "p1 = np.array([[np.nan, 0.5, 0.7, 0.8],\n",
    "               [0.5, np.nan, 0.6, 0.1],\n",
    "               [0.2, 0.3, np.nan, 0.5],\n",
    "               [0.2, 0.8, 0.5, np.nan]])\n",
    "p2 = np.array([[np.nan, 0.9, 0.2, 0.2],\n",
    "               [0.1, np.nan, 0.3, 0.9],\n",
    "               [0.7, 0.7, np.nan, 0.6],\n",
    "               [0.7, 0.1, 0.4, np.nan]])\n",
    "p3 = np.array([[np.nan, 0.7, 0.8, 0.6],\n",
    "               [0.3, np.nan, 0.7, 0.2],\n",
    "               [0.1, 0.3, np.nan, 0.3],\n",
    "               [0.3, 0.7, 0.6, np.nan]])\n",
    "p4 = np.array([[np.nan, 0.2, 0.8, 0.8],\n",
    "               [0.7, np.nan, 0.6, 0.3],\n",
    "               [0.1, 0.3, np.nan, 0.5],\n",
    "               [0.1, 0.7, 0.5, np.nan]])\n",
    "pref = np.array([p1, p2, p3, p4])\n",
    "n_x = p1.shape[1]"
   ]
  },
  {
   "cell_type": "markdown",
   "metadata": {},
   "source": [
    "## Preguntas a responder"
   ]
  },
  {
   "cell_type": "markdown",
   "metadata": {},
   "source": [
    "> Nota:  Use  la  relación  de  preferencia  colectiva  obtenida  en  el  punto  2  para   calcular  los  grados  de  dominancia  y  de  no  dominancia  solicitados  en  los puntos 3 y 4."
   ]
  },
  {
   "cell_type": "markdown",
   "metadata": {},
   "source": [
    "1. ¿Cuál es el nivel de consenso alcanzado entre los cuatro expertos?"
   ]
  },
  {
   "cell_type": "code",
   "execution_count": 46,
   "metadata": {},
   "outputs": [
    {
     "name": "stdout",
     "output_type": "stream",
     "text": [
      "P1 - P2:\n",
      "[[nan 0.6 0.5 0.4]\n",
      " [0.6 nan 0.7 0.2]\n",
      " [0.5 0.6 nan 0.9]\n",
      " [0.5 0.3 0.9 nan]]\n",
      "P1 - P3:\n",
      "[[nan 0.8 0.9 0.8]\n",
      " [0.8 nan 0.9 0.9]\n",
      " [0.9 1.  nan 0.8]\n",
      " [0.9 0.9 0.9 nan]]\n",
      "P1 - P4:\n",
      "[[nan 0.7 0.9 1. ]\n",
      " [0.8 nan 1.  0.8]\n",
      " [0.9 1.  nan 1. ]\n",
      " [0.9 0.9 1.  nan]]\n",
      "P2 - P3:\n",
      "[[nan 0.8 0.4 0.6]\n",
      " [0.8 nan 0.6 0.3]\n",
      " [0.4 0.6 nan 0.7]\n",
      " [0.6 0.4 0.8 nan]]\n",
      "P2 - P4:\n",
      "[[nan 0.3 0.4 0.4]\n",
      " [0.4 nan 0.7 0.4]\n",
      " [0.4 0.6 nan 0.9]\n",
      " [0.4 0.4 0.9 nan]]\n",
      "P3 - P4:\n",
      "[[nan 0.5 1.  0.8]\n",
      " [0.6 nan 0.9 0.9]\n",
      " [1.  1.  nan 0.8]\n",
      " [0.8 1.  0.9 nan]]\n"
     ]
    }
   ],
   "source": [
    "# Cálculo de la matriz de consenso\n",
    "sms =[]\n",
    "for i in range(len(pref)):\n",
    "    for j in range(i+1, len(pref)):\n",
    "        sm = 1 - np.abs(pref[i] - pref[j])\n",
    "        print(f'P{i+1} - P{j+1}:\\n{sm}')\n",
    "        sms.append(sm)\n",
    "\n",
    "consensus = np.mean(sms, axis=0)\n"
   ]
  },
  {
   "cell_type": "code",
   "execution_count": 47,
   "metadata": {},
   "outputs": [
    {
     "name": "stdout",
     "output_type": "stream",
     "text": [
      "Matriz de consenso:\n",
      "[[       nan 0.61666667 0.68333333 0.66666667]\n",
      " [0.66666667        nan 0.8        0.58333333]\n",
      " [0.68333333 0.8               nan 0.85      ]\n",
      " [0.68333333 0.65       0.9               nan]]\n"
     ]
    }
   ],
   "source": [
    "print(f'Matriz de consenso:\\n{consensus}')"
   ]
  },
  {
   "cell_type": "code",
   "execution_count": 48,
   "metadata": {},
   "outputs": [
    {
     "name": "stdout",
     "output_type": "stream",
     "text": [
      "Consenso global:\n",
      "0.7152777777777778\n"
     ]
    }
   ],
   "source": [
    "global_consensus = np.mean(consensus[~np.isnan(consensus)])\n",
    "print(f'Consenso global:\\n{global_consensus}')"
   ]
  },
  {
   "cell_type": "markdown",
   "metadata": {},
   "source": [
    "2. Usando el operador OWA con el cuantificador lingüístico difuso «mayoría», definido por $𝑄(𝑟) = 𝑟^{1/2}$, para obtener sus pesos, ¿cuál es la\n",
    "relación de preferencia colectiva?"
   ]
  },
  {
   "cell_type": "code",
   "execution_count": 49,
   "metadata": {},
   "outputs": [],
   "source": [
    "def q(n):\n",
    "    return np.sqrt(n)\n",
    "def calc_w(n):\n",
    "    w = np.ndarray(n)\n",
    "    for i in range(1, n+1):\n",
    "        w[i-1] = q(i / n) - q((i-1) / n)\n",
    "    return w\n",
    "\n",
    "n_exp = len(pref) # número de expertos\n",
    "w4 = calc_w(n_exp)"
   ]
  },
  {
   "cell_type": "code",
   "execution_count": 50,
   "metadata": {},
   "outputs": [],
   "source": [
    "def psi_q(array_p, w):\n",
    "    # Ordenar de mayor a menor\n",
    "    array_p = np.sort(array_p)[::-1]\n",
    "    # Aplicar los pesos\n",
    "    return np.sum(array_p * w)\n"
   ]
  },
  {
   "cell_type": "code",
   "execution_count": 51,
   "metadata": {},
   "outputs": [
    {
     "name": "stdout",
     "output_type": "stream",
     "text": [
      "Matriz de preferencia:\n",
      "[[       nan 0.70122898 0.70372338 0.68783152]\n",
      " [0.51462644        nan 0.60980762 0.55731322]\n",
      " [0.42071068 0.5               nan 0.52320508]\n",
      " [0.45731322 0.66961524 0.53660254        nan]]\n"
     ]
    }
   ],
   "source": [
    "# Ordenamos las matrices de preferencia de mayor a menor y aplicamos las ponderaciones\n",
    "pref_ag = np.ndarray((n_x, n_x))\n",
    "for i in range(n_x):\n",
    "    for j in range(n_x):\n",
    "        # Ordenamos los elementos i,j de cada una de las matrices de preferencia\n",
    "        pref_ij = np.array([p[i, j] for p in pref])\n",
    "        pref_ag[i, j] = psi_q(pref_ij, w4)\n",
    "\n",
    "print(f'Matriz de preferencia:\\n{pref_ag}')"
   ]
  },
  {
   "cell_type": "markdown",
   "metadata": {},
   "source": [
    "3. ¿Cuál es el grado de dominancia guiado por cuantificador asociado a cada alternativa? Indica el ranking de alternativas obtenido. Utilice de nuevo el\n",
    "operador OWA con el cuantificador lingüístico difuso «mayoría», definido por $𝑄(𝑟) = 𝑟^{1/2}$, para obtener sus pesos."
   ]
  },
  {
   "cell_type": "code",
   "execution_count": 52,
   "metadata": {},
   "outputs": [
    {
     "name": "stdout",
     "output_type": "stream",
     "text": [
      "Matriz de dominancia:\n",
      "[0.70021064 0.57978771 0.4988476  0.5988476 ]\n"
     ]
    }
   ],
   "source": [
    "# Los pesos son los mismos que en el caso anterior\n",
    "# Calculamos el grado de dominancia\n",
    "dom = np.ndarray((n_x))\n",
    "w3 = calc_w(n_exp - 1)\n",
    "for i in range(n_x):\n",
    "    fila = pref_ag[i, :]\n",
    "    # Quitar columna i\n",
    "    fila = np.delete(fila, i)\n",
    "    dom[i] = psi_q(fila, w3)\n",
    "print(f'Matriz de dominancia:\\n{dom}')\n"
   ]
  },
  {
   "cell_type": "markdown",
   "metadata": {},
   "source": [
    "4. ¿Cuál es el grado de **no** dominancia guiado por cuantificador asociado a cada alternativa? Indica el ranking de alternativas obtenido. Use de nuevo\n",
    "el operador OWA con el cuantificador lingüístico difuso «mayoría», definido por $𝑄(𝑟) = 𝑟^{1/2}$, para obtener sus pesos"
   ]
  },
  {
   "cell_type": "code",
   "execution_count": 56,
   "metadata": {},
   "outputs": [
    {
     "name": "stdout",
     "output_type": "stream",
     "text": [
      "Matriz de NO dominancia:\n",
      "[0.98205081 0.95715312 0.94185831 0.9691164 ]\n"
     ]
    }
   ],
   "source": [
    "# Los pesos son los mismos que en el caso anterior\n",
    "# Calculamos el grado de NO dominancia\n",
    "no_dom = np.zeros((n_x))\n",
    "# Calculamos haciendo el max(0, diferencia entre los elementos simétricos frente a la diagonal)\n",
    "for col in range(n_x):\n",
    "    res = np.ndarray((n_x))\n",
    "    for i in range(n_x):\n",
    "        if i != col:\n",
    "            el = pref_ag[i, col]\n",
    "            sim = pref_ag[col, i]\n",
    "            res[i] = 1 - max(0, el - sim)\n",
    "\n",
    "    # Ordenamos los elementos de res de mayor a menor y aplicamos las ponderaciones\n",
    "    no_dom[col] = psi_q(res, w4)\n",
    "\n",
    "print(f'Matriz de NO dominancia:\\n{no_dom}')\n"
   ]
  }
 ],
 "metadata": {
  "kernelspec": {
   "display_name": "softcompt",
   "language": "python",
   "name": "python3"
  },
  "language_info": {
   "codemirror_mode": {
    "name": "ipython",
    "version": 3
   },
   "file_extension": ".py",
   "mimetype": "text/x-python",
   "name": "python",
   "nbconvert_exporter": "python",
   "pygments_lexer": "ipython3",
   "version": "3.11.7"
  }
 },
 "nbformat": 4,
 "nbformat_minor": 2
}
